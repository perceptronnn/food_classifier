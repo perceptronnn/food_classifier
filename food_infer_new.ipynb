{
 "cells": [
  {
   "cell_type": "code",
   "execution_count": 1,
   "metadata": {},
   "outputs": [
    {
     "name": "stdout",
     "output_type": "stream",
     "text": [
      "Collecting voila\n",
      "  Downloading voila-0.1.22-py3-none-any.whl (5.9 MB)\n",
      "\u001b[K     |████████████████████████████████| 5.9 MB 8.3 MB/s eta 0:00:01\n",
      "\u001b[?25hCollecting async-generator\n",
      "  Downloading async_generator-1.10-py3-none-any.whl (18 kB)\n",
      "Collecting jupyter-server<0.2.0,>=0.1.0\n",
      "  Downloading jupyter_server-0.1.1-py2.py3-none-any.whl (183 kB)\n",
      "\u001b[K     |████████████████████████████████| 183 kB 80.6 MB/s eta 0:00:01\n",
      "\u001b[?25hRequirement already satisfied: nbconvert<6,>=5.5.0 in /opt/conda/envs/myfastai/lib/python3.7/site-packages (from voila) (5.6.1)\n",
      "Collecting jupyterlab-pygments<0.2,>=0.1.0\n",
      "  Downloading jupyterlab_pygments-0.1.1-py2.py3-none-any.whl (4.6 kB)\n",
      "Requirement already satisfied: pygments<3,>=2.4.1 in /opt/conda/envs/myfastai/lib/python3.7/site-packages (from voila) (2.6.1)\n",
      "Requirement already satisfied: ipython-genutils in /opt/conda/envs/myfastai/lib/python3.7/site-packages (from jupyter-server<0.2.0,>=0.1.0->voila) (0.2.0)\n",
      "Requirement already satisfied: ipykernel in /opt/conda/envs/myfastai/lib/python3.7/site-packages (from jupyter-server<0.2.0,>=0.1.0->voila) (5.3.4)\n",
      "Requirement already satisfied: nbformat in /opt/conda/envs/myfastai/lib/python3.7/site-packages (from jupyter-server<0.2.0,>=0.1.0->voila) (5.0.7)\n",
      "Requirement already satisfied: prometheus-client in /opt/conda/envs/myfastai/lib/python3.7/site-packages (from jupyter-server<0.2.0,>=0.1.0->voila) (0.8.0)\n",
      "Requirement already satisfied: pyzmq>=17 in /opt/conda/envs/myfastai/lib/python3.7/site-packages (from jupyter-server<0.2.0,>=0.1.0->voila) (19.0.2)\n",
      "Requirement already satisfied: jupyter-core>=4.4.0 in /opt/conda/envs/myfastai/lib/python3.7/site-packages (from jupyter-server<0.2.0,>=0.1.0->voila) (4.6.3)\n",
      "Requirement already satisfied: tornado>=4 in /opt/conda/envs/myfastai/lib/python3.7/site-packages (from jupyter-server<0.2.0,>=0.1.0->voila) (6.0.4)\n",
      "Requirement already satisfied: Send2Trash in /opt/conda/envs/myfastai/lib/python3.7/site-packages (from jupyter-server<0.2.0,>=0.1.0->voila) (1.5.0)\n",
      "Requirement already satisfied: traitlets>=4.2.1 in /opt/conda/envs/myfastai/lib/python3.7/site-packages (from jupyter-server<0.2.0,>=0.1.0->voila) (4.3.3)\n",
      "Requirement already satisfied: jinja2 in /opt/conda/envs/myfastai/lib/python3.7/site-packages (from jupyter-server<0.2.0,>=0.1.0->voila) (2.11.2)\n",
      "Requirement already satisfied: terminado>=0.8.1 in /opt/conda/envs/myfastai/lib/python3.7/site-packages (from jupyter-server<0.2.0,>=0.1.0->voila) (0.8.3)\n",
      "Requirement already satisfied: jupyter-client>=5.3.1 in /opt/conda/envs/myfastai/lib/python3.7/site-packages (from jupyter-server<0.2.0,>=0.1.0->voila) (6.1.7)\n",
      "Requirement already satisfied: defusedxml in /opt/conda/envs/myfastai/lib/python3.7/site-packages (from nbconvert<6,>=5.5.0->voila) (0.6.0)\n",
      "Requirement already satisfied: testpath in /opt/conda/envs/myfastai/lib/python3.7/site-packages (from nbconvert<6,>=5.5.0->voila) (0.4.4)\n",
      "Requirement already satisfied: mistune<2,>=0.8.1 in /opt/conda/envs/myfastai/lib/python3.7/site-packages (from nbconvert<6,>=5.5.0->voila) (0.8.4)\n",
      "Requirement already satisfied: bleach in /opt/conda/envs/myfastai/lib/python3.7/site-packages (from nbconvert<6,>=5.5.0->voila) (3.1.5)\n",
      "Requirement already satisfied: pandocfilters>=1.4.1 in /opt/conda/envs/myfastai/lib/python3.7/site-packages (from nbconvert<6,>=5.5.0->voila) (1.4.2)\n",
      "Requirement already satisfied: entrypoints>=0.2.2 in /opt/conda/envs/myfastai/lib/python3.7/site-packages (from nbconvert<6,>=5.5.0->voila) (0.3)\n",
      "Requirement already satisfied: ipython>=5.0.0 in /opt/conda/envs/myfastai/lib/python3.7/site-packages (from ipykernel->jupyter-server<0.2.0,>=0.1.0->voila) (7.17.0)\n",
      "Requirement already satisfied: jsonschema!=2.5.0,>=2.4 in /opt/conda/envs/myfastai/lib/python3.7/site-packages (from nbformat->jupyter-server<0.2.0,>=0.1.0->voila) (3.2.0)\n",
      "Requirement already satisfied: decorator in /opt/conda/envs/myfastai/lib/python3.7/site-packages (from traitlets>=4.2.1->jupyter-server<0.2.0,>=0.1.0->voila) (4.4.2)\n",
      "Requirement already satisfied: six in /opt/conda/envs/myfastai/lib/python3.7/site-packages (from traitlets>=4.2.1->jupyter-server<0.2.0,>=0.1.0->voila) (1.15.0)\n",
      "Requirement already satisfied: MarkupSafe>=0.23 in /opt/conda/envs/myfastai/lib/python3.7/site-packages (from jinja2->jupyter-server<0.2.0,>=0.1.0->voila) (1.1.1)\n",
      "Requirement already satisfied: python-dateutil>=2.1 in /opt/conda/envs/myfastai/lib/python3.7/site-packages (from jupyter-client>=5.3.1->jupyter-server<0.2.0,>=0.1.0->voila) (2.8.1)\n",
      "Requirement already satisfied: webencodings in /opt/conda/envs/myfastai/lib/python3.7/site-packages (from bleach->nbconvert<6,>=5.5.0->voila) (0.5.1)\n",
      "Requirement already satisfied: packaging in /opt/conda/envs/myfastai/lib/python3.7/site-packages (from bleach->nbconvert<6,>=5.5.0->voila) (20.4)\n",
      "Requirement already satisfied: backcall in /opt/conda/envs/myfastai/lib/python3.7/site-packages (from ipython>=5.0.0->ipykernel->jupyter-server<0.2.0,>=0.1.0->voila) (0.2.0)\n",
      "Requirement already satisfied: pickleshare in /opt/conda/envs/myfastai/lib/python3.7/site-packages (from ipython>=5.0.0->ipykernel->jupyter-server<0.2.0,>=0.1.0->voila) (0.7.5)\n",
      "Requirement already satisfied: pexpect; sys_platform != \"win32\" in /opt/conda/envs/myfastai/lib/python3.7/site-packages (from ipython>=5.0.0->ipykernel->jupyter-server<0.2.0,>=0.1.0->voila) (4.8.0)\n",
      "Requirement already satisfied: jedi>=0.10 in /opt/conda/envs/myfastai/lib/python3.7/site-packages (from ipython>=5.0.0->ipykernel->jupyter-server<0.2.0,>=0.1.0->voila) (0.15.2)\n",
      "Requirement already satisfied: prompt-toolkit!=3.0.0,!=3.0.1,<3.1.0,>=2.0.0 in /opt/conda/envs/myfastai/lib/python3.7/site-packages (from ipython>=5.0.0->ipykernel->jupyter-server<0.2.0,>=0.1.0->voila) (3.0.6)\n",
      "Requirement already satisfied: setuptools>=18.5 in /opt/conda/envs/myfastai/lib/python3.7/site-packages (from ipython>=5.0.0->ipykernel->jupyter-server<0.2.0,>=0.1.0->voila) (49.6.0.post20200814)\n",
      "Requirement already satisfied: attrs>=17.4.0 in /opt/conda/envs/myfastai/lib/python3.7/site-packages (from jsonschema!=2.5.0,>=2.4->nbformat->jupyter-server<0.2.0,>=0.1.0->voila) (20.1.0)\n",
      "Requirement already satisfied: importlib-metadata; python_version < \"3.8\" in /opt/conda/envs/myfastai/lib/python3.7/site-packages (from jsonschema!=2.5.0,>=2.4->nbformat->jupyter-server<0.2.0,>=0.1.0->voila) (1.7.0)\n",
      "Requirement already satisfied: pyrsistent>=0.14.0 in /opt/conda/envs/myfastai/lib/python3.7/site-packages (from jsonschema!=2.5.0,>=2.4->nbformat->jupyter-server<0.2.0,>=0.1.0->voila) (0.16.0)\n",
      "Requirement already satisfied: pyparsing>=2.0.2 in /opt/conda/envs/myfastai/lib/python3.7/site-packages (from packaging->bleach->nbconvert<6,>=5.5.0->voila) (2.4.7)\n",
      "Requirement already satisfied: ptyprocess>=0.5 in /opt/conda/envs/myfastai/lib/python3.7/site-packages (from pexpect; sys_platform != \"win32\"->ipython>=5.0.0->ipykernel->jupyter-server<0.2.0,>=0.1.0->voila) (0.6.0)\n",
      "Requirement already satisfied: parso>=0.5.2 in /opt/conda/envs/myfastai/lib/python3.7/site-packages (from jedi>=0.10->ipython>=5.0.0->ipykernel->jupyter-server<0.2.0,>=0.1.0->voila) (0.5.2)\n",
      "Requirement already satisfied: wcwidth in /opt/conda/envs/myfastai/lib/python3.7/site-packages (from prompt-toolkit!=3.0.0,!=3.0.1,<3.1.0,>=2.0.0->ipython>=5.0.0->ipykernel->jupyter-server<0.2.0,>=0.1.0->voila) (0.2.5)\n",
      "Requirement already satisfied: zipp>=0.5 in /opt/conda/envs/myfastai/lib/python3.7/site-packages (from importlib-metadata; python_version < \"3.8\"->jsonschema!=2.5.0,>=2.4->nbformat->jupyter-server<0.2.0,>=0.1.0->voila) (3.1.0)\n",
      "Installing collected packages: async-generator, jupyter-server, jupyterlab-pygments, voila\n",
      "Successfully installed async-generator-1.10 jupyter-server-0.1.1 jupyterlab-pygments-0.1.1 voila-0.1.22\n"
     ]
    }
   ],
   "source": [
    "#!pip install voila"
   ]
  },
  {
   "cell_type": "code",
   "execution_count": 12,
   "metadata": {},
   "outputs": [
    {
     "name": "stdout",
     "output_type": "stream",
     "text": [
      "Enabling: voila\n",
      "- Writing config: /opt/conda/envs/myfastai/etc/jupyter\n",
      "    - Validating...\n",
      "      voila 0.1.21 \u001b[32mOK\u001b[0m\n"
     ]
    }
   ],
   "source": [
    "#!jupyter serverextension enable voila --sys-prefix"
   ]
  },
  {
   "cell_type": "code",
   "execution_count": 7,
   "metadata": {},
   "outputs": [],
   "source": [
    "from fastai.vision.all import *\n",
    "from fastai.vision.widgets import *"
   ]
  },
  {
   "cell_type": "code",
   "execution_count": 8,
   "metadata": {},
   "outputs": [],
   "source": [
    "path = Path('/home/anurag/')\n",
    "learn_inf = load_learner(path/'food.pkl', cpu=True)\n",
    "btn_upload = widgets.FileUpload()\n",
    "out_pl = widgets.Output()\n",
    "lbl_pred = widgets.Label()"
   ]
  },
  {
   "cell_type": "code",
   "execution_count": 9,
   "metadata": {},
   "outputs": [],
   "source": [
    "def on_data_change(change):\n",
    "    lbl_pred.value = ''\n",
    "    img = PILImage.create(btn_upload.data[-1])\n",
    "    out_pl.clear_output()\n",
    "    with out_pl: display(img.to_thumb(128,128))\n",
    "    pred,pred_idx,probs = learn_inf.predict(img)\n",
    "    lbl_pred.value = f'Prediction: {pred}; Probability: {probs[pred_idx]:.04f}'"
   ]
  },
  {
   "cell_type": "code",
   "execution_count": 10,
   "metadata": {},
   "outputs": [],
   "source": [
    "btn_upload.observe(on_data_change, names=['data'])"
   ]
  },
  {
   "cell_type": "code",
   "execution_count": 11,
   "metadata": {},
   "outputs": [
    {
     "data": {
      "application/vnd.jupyter.widget-view+json": {
       "model_id": "f1f5bf61c8a442bcb96fea7e9a9367ea",
       "version_major": 2,
       "version_minor": 0
      },
      "text/plain": [
       "VBox(children=(Label(value='Select your food!'), FileUpload(value={}, description='Upload'), Output(), Label(v…"
      ]
     },
     "metadata": {},
     "output_type": "display_data"
    },
    {
     "data": {
      "text/html": [],
      "text/plain": [
       "<IPython.core.display.HTML object>"
      ]
     },
     "metadata": {},
     "output_type": "display_data"
    }
   ],
   "source": [
    "display(VBox([widgets.Label('Select your food!'), btn_upload, out_pl, lbl_pred]))"
   ]
  },
  {
   "cell_type": "code",
   "execution_count": null,
   "metadata": {},
   "outputs": [],
   "source": []
  }
 ],
 "metadata": {
  "kernelspec": {
   "display_name": "Python 3",
   "language": "python",
   "name": "python3"
  },
  "language_info": {
   "codemirror_mode": {
    "name": "ipython",
    "version": 3
   },
   "file_extension": ".py",
   "mimetype": "text/x-python",
   "name": "python",
   "nbconvert_exporter": "python",
   "pygments_lexer": "ipython3",
   "version": "3.7.6"
  }
 },
 "nbformat": 4,
 "nbformat_minor": 4
}
